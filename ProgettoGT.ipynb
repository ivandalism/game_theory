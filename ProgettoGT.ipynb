{
  "cells": [
    {
      "cell_type": "code",
      "execution_count": null,
      "metadata": {
        "id": "8APxHXQrFbEf",
        "colab": {
          "base_uri": "https://localhost:8080/"
        },
        "outputId": "8061a80c-994e-4231-86a9-4c2cdafebf9c"
      },
      "outputs": [
        {
          "output_type": "stream",
          "name": "stdout",
          "text": [
            "Requirement already satisfied: shap in /usr/local/lib/python3.7/dist-packages (0.40.0)\n",
            "Requirement already satisfied: packaging>20.9 in /usr/local/lib/python3.7/dist-packages (from shap) (21.3)\n",
            "Requirement already satisfied: pandas in /usr/local/lib/python3.7/dist-packages (from shap) (1.1.5)\n",
            "Requirement already satisfied: cloudpickle in /usr/local/lib/python3.7/dist-packages (from shap) (1.3.0)\n",
            "Requirement already satisfied: numpy in /usr/local/lib/python3.7/dist-packages (from shap) (1.19.5)\n",
            "Requirement already satisfied: slicer==0.0.7 in /usr/local/lib/python3.7/dist-packages (from shap) (0.0.7)\n",
            "Requirement already satisfied: numba in /usr/local/lib/python3.7/dist-packages (from shap) (0.51.2)\n",
            "Requirement already satisfied: scipy in /usr/local/lib/python3.7/dist-packages (from shap) (1.4.1)\n",
            "Requirement already satisfied: scikit-learn in /usr/local/lib/python3.7/dist-packages (from shap) (1.0.2)\n",
            "Requirement already satisfied: tqdm>4.25.0 in /usr/local/lib/python3.7/dist-packages (from shap) (4.62.3)\n",
            "Requirement already satisfied: pyparsing!=3.0.5,>=2.0.2 in /usr/local/lib/python3.7/dist-packages (from packaging>20.9->shap) (3.0.7)\n",
            "Requirement already satisfied: llvmlite<0.35,>=0.34.0.dev0 in /usr/local/lib/python3.7/dist-packages (from numba->shap) (0.34.0)\n",
            "Requirement already satisfied: setuptools in /usr/local/lib/python3.7/dist-packages (from numba->shap) (57.4.0)\n",
            "Requirement already satisfied: python-dateutil>=2.7.3 in /usr/local/lib/python3.7/dist-packages (from pandas->shap) (2.8.2)\n",
            "Requirement already satisfied: pytz>=2017.2 in /usr/local/lib/python3.7/dist-packages (from pandas->shap) (2018.9)\n",
            "Requirement already satisfied: six>=1.5 in /usr/local/lib/python3.7/dist-packages (from python-dateutil>=2.7.3->pandas->shap) (1.15.0)\n",
            "Requirement already satisfied: threadpoolctl>=2.0.0 in /usr/local/lib/python3.7/dist-packages (from scikit-learn->shap) (3.0.0)\n",
            "Requirement already satisfied: joblib>=0.11 in /usr/local/lib/python3.7/dist-packages (from scikit-learn->shap) (1.1.0)\n"
          ]
        }
      ],
      "source": [
        "import scipy\n",
        "from scipy.special import binom as binom\n",
        "import sympy as sp\n",
        "#from sympy import factorial as fact\n",
        "import numpy as np\n",
        "import pandas as pd\n",
        "import sklearn\n",
        "from sklearn.model_selection import train_test_split\n",
        "from sklearn import tree\n",
        "from itertools import chain,combinations\n",
        "import matplotlib.pyplot as plt\n",
        "!pip install shap\n",
        "import shap"
      ]
    },
    {
      "cell_type": "code",
      "execution_count": null,
      "metadata": {
        "colab": {
          "base_uri": "https://localhost:8080/",
          "height": 424
        },
        "id": "d-kK84YzNzlB",
        "outputId": "66710ccc-8e51-4303-aef2-20ad940978f4"
      },
      "outputs": [
        {
          "output_type": "execute_result",
          "data": {
            "text/html": [
              "\n",
              "  <div id=\"df-f9b03b96-d967-4b3d-a96a-e94d80d029fb\">\n",
              "    <div class=\"colab-df-container\">\n",
              "      <div>\n",
              "<style scoped>\n",
              "    .dataframe tbody tr th:only-of-type {\n",
              "        vertical-align: middle;\n",
              "    }\n",
              "\n",
              "    .dataframe tbody tr th {\n",
              "        vertical-align: top;\n",
              "    }\n",
              "\n",
              "    .dataframe thead th {\n",
              "        text-align: right;\n",
              "    }\n",
              "</style>\n",
              "<table border=\"1\" class=\"dataframe\">\n",
              "  <thead>\n",
              "    <tr style=\"text-align: right;\">\n",
              "      <th></th>\n",
              "      <th>age</th>\n",
              "      <th>sex</th>\n",
              "      <th>vehicle</th>\n",
              "      <th>role</th>\n",
              "      <th>road</th>\n",
              "      <th>month</th>\n",
              "      <th>accident</th>\n",
              "    </tr>\n",
              "  </thead>\n",
              "  <tbody>\n",
              "    <tr>\n",
              "      <th>0</th>\n",
              "      <td>3</td>\n",
              "      <td>0</td>\n",
              "      <td>0</td>\n",
              "      <td>2</td>\n",
              "      <td>2</td>\n",
              "      <td>3</td>\n",
              "      <td>1</td>\n",
              "    </tr>\n",
              "    <tr>\n",
              "      <th>1</th>\n",
              "      <td>4</td>\n",
              "      <td>0</td>\n",
              "      <td>1</td>\n",
              "      <td>2</td>\n",
              "      <td>1</td>\n",
              "      <td>1</td>\n",
              "      <td>1</td>\n",
              "    </tr>\n",
              "    <tr>\n",
              "      <th>2</th>\n",
              "      <td>0</td>\n",
              "      <td>0</td>\n",
              "      <td>1</td>\n",
              "      <td>0</td>\n",
              "      <td>1</td>\n",
              "      <td>11</td>\n",
              "      <td>0</td>\n",
              "    </tr>\n",
              "    <tr>\n",
              "      <th>3</th>\n",
              "      <td>1</td>\n",
              "      <td>1</td>\n",
              "      <td>1</td>\n",
              "      <td>1</td>\n",
              "      <td>0</td>\n",
              "      <td>5</td>\n",
              "      <td>1</td>\n",
              "    </tr>\n",
              "    <tr>\n",
              "      <th>4</th>\n",
              "      <td>2</td>\n",
              "      <td>0</td>\n",
              "      <td>3</td>\n",
              "      <td>1</td>\n",
              "      <td>2</td>\n",
              "      <td>5</td>\n",
              "      <td>1</td>\n",
              "    </tr>\n",
              "    <tr>\n",
              "      <th>...</th>\n",
              "      <td>...</td>\n",
              "      <td>...</td>\n",
              "      <td>...</td>\n",
              "      <td>...</td>\n",
              "      <td>...</td>\n",
              "      <td>...</td>\n",
              "      <td>...</td>\n",
              "    </tr>\n",
              "    <tr>\n",
              "      <th>195</th>\n",
              "      <td>1</td>\n",
              "      <td>0</td>\n",
              "      <td>0</td>\n",
              "      <td>2</td>\n",
              "      <td>2</td>\n",
              "      <td>11</td>\n",
              "      <td>1</td>\n",
              "    </tr>\n",
              "    <tr>\n",
              "      <th>196</th>\n",
              "      <td>2</td>\n",
              "      <td>1</td>\n",
              "      <td>1</td>\n",
              "      <td>2</td>\n",
              "      <td>1</td>\n",
              "      <td>7</td>\n",
              "      <td>0</td>\n",
              "    </tr>\n",
              "    <tr>\n",
              "      <th>197</th>\n",
              "      <td>2</td>\n",
              "      <td>0</td>\n",
              "      <td>5</td>\n",
              "      <td>0</td>\n",
              "      <td>2</td>\n",
              "      <td>8</td>\n",
              "      <td>0</td>\n",
              "    </tr>\n",
              "    <tr>\n",
              "      <th>198</th>\n",
              "      <td>5</td>\n",
              "      <td>1</td>\n",
              "      <td>2</td>\n",
              "      <td>0</td>\n",
              "      <td>0</td>\n",
              "      <td>9</td>\n",
              "      <td>1</td>\n",
              "    </tr>\n",
              "    <tr>\n",
              "      <th>199</th>\n",
              "      <td>0</td>\n",
              "      <td>1</td>\n",
              "      <td>0</td>\n",
              "      <td>2</td>\n",
              "      <td>2</td>\n",
              "      <td>8</td>\n",
              "      <td>0</td>\n",
              "    </tr>\n",
              "  </tbody>\n",
              "</table>\n",
              "<p>200 rows × 7 columns</p>\n",
              "</div>\n",
              "      <button class=\"colab-df-convert\" onclick=\"convertToInteractive('df-f9b03b96-d967-4b3d-a96a-e94d80d029fb')\"\n",
              "              title=\"Convert this dataframe to an interactive table.\"\n",
              "              style=\"display:none;\">\n",
              "        \n",
              "  <svg xmlns=\"http://www.w3.org/2000/svg\" height=\"24px\"viewBox=\"0 0 24 24\"\n",
              "       width=\"24px\">\n",
              "    <path d=\"M0 0h24v24H0V0z\" fill=\"none\"/>\n",
              "    <path d=\"M18.56 5.44l.94 2.06.94-2.06 2.06-.94-2.06-.94-.94-2.06-.94 2.06-2.06.94zm-11 1L8.5 8.5l.94-2.06 2.06-.94-2.06-.94L8.5 2.5l-.94 2.06-2.06.94zm10 10l.94 2.06.94-2.06 2.06-.94-2.06-.94-.94-2.06-.94 2.06-2.06.94z\"/><path d=\"M17.41 7.96l-1.37-1.37c-.4-.4-.92-.59-1.43-.59-.52 0-1.04.2-1.43.59L10.3 9.45l-7.72 7.72c-.78.78-.78 2.05 0 2.83L4 21.41c.39.39.9.59 1.41.59.51 0 1.02-.2 1.41-.59l7.78-7.78 2.81-2.81c.8-.78.8-2.07 0-2.86zM5.41 20L4 18.59l7.72-7.72 1.47 1.35L5.41 20z\"/>\n",
              "  </svg>\n",
              "      </button>\n",
              "      \n",
              "  <style>\n",
              "    .colab-df-container {\n",
              "      display:flex;\n",
              "      flex-wrap:wrap;\n",
              "      gap: 12px;\n",
              "    }\n",
              "\n",
              "    .colab-df-convert {\n",
              "      background-color: #E8F0FE;\n",
              "      border: none;\n",
              "      border-radius: 50%;\n",
              "      cursor: pointer;\n",
              "      display: none;\n",
              "      fill: #1967D2;\n",
              "      height: 32px;\n",
              "      padding: 0 0 0 0;\n",
              "      width: 32px;\n",
              "    }\n",
              "\n",
              "    .colab-df-convert:hover {\n",
              "      background-color: #E2EBFA;\n",
              "      box-shadow: 0px 1px 2px rgba(60, 64, 67, 0.3), 0px 1px 3px 1px rgba(60, 64, 67, 0.15);\n",
              "      fill: #174EA6;\n",
              "    }\n",
              "\n",
              "    [theme=dark] .colab-df-convert {\n",
              "      background-color: #3B4455;\n",
              "      fill: #D2E3FC;\n",
              "    }\n",
              "\n",
              "    [theme=dark] .colab-df-convert:hover {\n",
              "      background-color: #434B5C;\n",
              "      box-shadow: 0px 1px 3px 1px rgba(0, 0, 0, 0.15);\n",
              "      filter: drop-shadow(0px 1px 2px rgba(0, 0, 0, 0.3));\n",
              "      fill: #FFFFFF;\n",
              "    }\n",
              "  </style>\n",
              "\n",
              "      <script>\n",
              "        const buttonEl =\n",
              "          document.querySelector('#df-f9b03b96-d967-4b3d-a96a-e94d80d029fb button.colab-df-convert');\n",
              "        buttonEl.style.display =\n",
              "          google.colab.kernel.accessAllowed ? 'block' : 'none';\n",
              "\n",
              "        async function convertToInteractive(key) {\n",
              "          const element = document.querySelector('#df-f9b03b96-d967-4b3d-a96a-e94d80d029fb');\n",
              "          const dataTable =\n",
              "            await google.colab.kernel.invokeFunction('convertToInteractive',\n",
              "                                                     [key], {});\n",
              "          if (!dataTable) return;\n",
              "\n",
              "          const docLinkHtml = 'Like what you see? Visit the ' +\n",
              "            '<a target=\"_blank\" href=https://colab.research.google.com/notebooks/data_table.ipynb>data table notebook</a>'\n",
              "            + ' to learn more about interactive tables.';\n",
              "          element.innerHTML = '';\n",
              "          dataTable['output_type'] = 'display_data';\n",
              "          await google.colab.output.renderOutput(dataTable, element);\n",
              "          const docLink = document.createElement('div');\n",
              "          docLink.innerHTML = docLinkHtml;\n",
              "          element.appendChild(docLink);\n",
              "        }\n",
              "      </script>\n",
              "    </div>\n",
              "  </div>\n",
              "  "
            ],
            "text/plain": [
              "     age  sex  vehicle  role  road  month  accident\n",
              "0      3    0        0     2     2      3         1\n",
              "1      4    0        1     2     1      1         1\n",
              "2      0    0        1     0     1     11         0\n",
              "3      1    1        1     1     0      5         1\n",
              "4      2    0        3     1     2      5         1\n",
              "..   ...  ...      ...   ...   ...    ...       ...\n",
              "195    1    0        0     2     2     11         1\n",
              "196    2    1        1     2     1      7         0\n",
              "197    2    0        5     0     2      8         0\n",
              "198    5    1        2     0     0      9         1\n",
              "199    0    1        0     2     2      8         0\n",
              "\n",
              "[200 rows x 7 columns]"
            ]
          },
          "metadata": {},
          "execution_count": 2
        }
      ],
      "source": [
        "import random\n",
        "\n",
        "def generate_df():\n",
        "    diz={'age':{0:4 , 1:3.8 , 2:14.8 , 3:32.8 , 4:24.7 , 5:18.9},\n",
        "                'sex':{0:66 , 1:44},\n",
        "                'vehicle':{0:2 , 1:2 , 2:10 , 3:73.8 , 4:0.5 , 5:11.7},\n",
        "                'role':{0:12.5 , 1:21.5 , 2:66},\n",
        "                'road':{0:69.6 , 1:5.4 , 2:25},\n",
        "                'month':{0:7.2 , 1:6.3 , 2:7.4 , 3:8.1 , 4:8.1 , 5:9.8 , 6:10.4 , 7:8.6 , 8:8.5 , 9:8.6 , 10:8 , 11:8}}\n",
        "\n",
        "    df=pd.DataFrame()\n",
        "    df.insert(0,'age',np.random.randint(0, 6, 200))\n",
        "    df.insert(1,'sex',np.random.randint(0, 2, 200))\n",
        "\n",
        "    vehicle=[]\n",
        "    for i in range(0,200):\n",
        "      if df.at[i,'age']==0:\n",
        "        vehicle.append(np.random.randint(0,2)) #se ha meno di 14 o è a piedi o bici\n",
        "      elif df.at[i,'age']==1:\n",
        "        vehicle.append(np.random.randint(0,3)) #se ha tra i 15 e i 17 o è a piedi o bici o moto\n",
        "      else:\n",
        "        vehicle.append(np.random.randint(0,6))\n",
        "    df.insert(2,'vehicle',vehicle)\n",
        "\n",
        "    role=[]\n",
        "    for i in range(0,200):\n",
        "      if df.at[i,'vehicle']==0:\n",
        "        role.append(2)   #se è a piedi il role è per forza pedone\n",
        "      elif df.at[i,'age']==0:\n",
        "        role.append(np.random.randint(0,2)) #se ha meno di 15 anni o è a piedi o è il passeggero\n",
        "      else:\n",
        "        role.append(np.random.randint(0,3))\n",
        "\n",
        "    df.insert(3,'role',role)\n",
        "    df.insert(4,'road',np.random.randint(0, 3, 200))\n",
        "    df.insert(5,'month',np.random.randint(0, 12, 200))\n",
        "\n",
        "    incidente=[]\n",
        "    for i in range(0,200):\n",
        "      age=diz['age'][df.at[i,'age']]\n",
        "      sex=diz['sex'][df.at[i,'sex']]\n",
        "      vehicle=diz['vehicle'][df.at[i,'vehicle']]\n",
        "      role=diz['role'][df.at[i,'role']]\n",
        "      road=diz['road'][df.at[i,'road']]\n",
        "      month=diz['month'][df.at[i,'month']]\n",
        "      #print(age+sex+vehicle+role+road+month)\n",
        "      if age+sex+vehicle+role+road+month >=150:\n",
        "        inc=1\n",
        "      else:\n",
        "        inc=0\n",
        "      incidente.append(inc)\n",
        "\n",
        "    df.insert(6,'accident', incidente)\n",
        "    df.to_csv('/content/sample_data/incidenti.csv')\n",
        "\n",
        "    return df\n",
        "\n",
        "df=generate_df()\n",
        "df"
      ]
    },
    {
      "cell_type": "code",
      "source": [
        "import numpy as np\n",
        "from pandas import DataFrame\n",
        "import seaborn as sns\n",
        "%matplotlib inline\n",
        "\n",
        "sns.heatmap(df, annot=True)"
      ],
      "metadata": {
        "colab": {
          "base_uri": "https://localhost:8080/",
          "height": 288
        },
        "id": "OeZRBAlIlV09",
        "outputId": "ad5e98ea-2d88-460e-93db-bfbb1744dff7"
      },
      "execution_count": null,
      "outputs": [
        {
          "output_type": "execute_result",
          "data": {
            "text/plain": [
              "<matplotlib.axes._subplots.AxesSubplot at 0x7fd6287f5110>"
            ]
          },
          "metadata": {},
          "execution_count": 3
        },
        {
          "output_type": "display_data",
          "data": {
            "image/png": "[encoded data removed]",
            "text/plain": [
              "<Figure size 432x288 with 2 Axes>"
            ]
          },
          "metadata": {
            "needs_background": "light"
          }
        }
      ]
    },
    {
      "cell_type": "code",
      "source": [
        "count={'age':df['age'].value_counts() , 'sex':df['sex'].value_counts() , 'vehicle':df['vehicle'].value_counts() ,\n",
        "       'role':df['role'].value_counts() , 'road':df['road'].value_counts() , 'month':df['month'].value_counts()}\n",
        "\n",
        "print(count)\n",
        "count2 = df.groupby(['age']).count()\n",
        "print(count2)"
      ],
      "metadata": {
        "colab": {
          "base_uri": "https://localhost:8080/"
        },
        "id": "GN4E8E1Qhhza",
        "outputId": "420577e5-6c20-462b-f940-7756e2c03b7e"
      },
      "execution_count": null,
      "outputs": [
        {
          "output_type": "stream",
          "name": "stdout",
          "text": [
            "{'age': 1    45\n",
            "3    35\n",
            "2    33\n",
            "5    29\n",
            "4    29\n",
            "0    29\n",
            "Name: age, dtype: int64, 'sex': 1    102\n",
            "0     98\n",
            "Name: sex, dtype: int64, 'vehicle': 1    55\n",
            "0    48\n",
            "2    34\n",
            "4    26\n",
            "3    21\n",
            "5    16\n",
            "Name: vehicle, dtype: int64, 'role': 2    92\n",
            "1    54\n",
            "0    54\n",
            "Name: role, dtype: int64, 'road': 1    79\n",
            "2    68\n",
            "0    53\n",
            "Name: road, dtype: int64, 'month': 11    22\n",
            "9     20\n",
            "1     19\n",
            "7     18\n",
            "6     18\n",
            "5     17\n",
            "2     17\n",
            "8     16\n",
            "10    15\n",
            "4     15\n",
            "3     13\n",
            "0     10\n",
            "Name: month, dtype: int64}\n",
            "     sex  vehicle  role  road  month  accident\n",
            "age                                           \n",
            "0     29       29    29    29     29        29\n",
            "1     45       45    45    45     45        45\n",
            "2     33       33    33    33     33        33\n",
            "3     35       35    35    35     35        35\n",
            "4     29       29    29    29     29        29\n",
            "5     29       29    29    29     29        29\n"
          ]
        }
      ]
    },
    {
      "cell_type": "markdown",
      "metadata": {
        "id": "kLES-yoiYXVg"
      },
      "source": [
        "## CASO DI CLASSFICAZIONE:"
      ]
    },
    {
      "cell_type": "code",
      "execution_count": null,
      "metadata": {
        "id": "2AnLd_RtYlfM"
      },
      "outputs": [],
      "source": [
        "y  =  df[df.columns[-1]]\n",
        "X  =  df[df.columns[:-1]]\n",
        "y = y.to_numpy()\n",
        "X = X.to_numpy()\n",
        "train_X, val_X, train_y, val_y  =  train_test_split(X, y, test_size = 0.3) #y è le cose che deve imparare ad indovinare\n",
        "\n",
        "def train():\n",
        "  return  tree.DecisionTreeClassifier(random_state = 0).fit(train_X, train_y)\n",
        "\n",
        "my_model = train()\n",
        "data_array=df.columns[:-1].copy()"
      ]
    },
    {
      "cell_type": "markdown",
      "metadata": {
        "id": "IcegMtycYlfN"
      },
      "source": [
        "varie possibili value functions:\n"
      ]
    },
    {
      "cell_type": "code",
      "execution_count": null,
      "metadata": {
        "id": "apVQNZwqYlfO",
        "colab": {
          "base_uri": "https://localhost:8080/",
          "height": 145
        },
        "outputId": "47d9a159-5bfe-4a55-efdc-d04857ffe89d"
      },
      "outputs": [
        {
          "output_type": "execute_result",
          "data": {
            "application/vnd.google.colaboratory.intrinsic+json": {
              "type": "string"
            },
            "text/plain": [
              "'\\ndef mean_val(S,val_X,val_y,my_model):\\n  average = []\\n  for n in range(0,len(val_y)-1):\\n      x_1 = val_X[n,:].copy()\\n      x_2 = df[df.columns[:-1]].copy().mean(axis = 0)\\n      for j in S:  #magari vettorialmente\\n          ind = list(data_array).index(j)\\n          x_2[ind] = x_1[ind]   #ora x_2 differisce da x_3 solo per valori di S\\n      pred = my_model.predict(np.array(x_2).reshape(1,-1))\\n      average.append(1-abs(pred-val_y[n])) #vettore di scarti dalla media\\n      #print([pred,val_y[n]])\\n  worst = max([abs(x) for x in average])\\n  if worst == 0:\\n    return 1\\n  return (sum(average)/len(average))/worst\\n  return sum(average)/len(average)\\n'"
            ]
          },
          "metadata": {},
          "execution_count": 6
        }
      ],
      "source": [
        "'''\n",
        "def mean_val(S,val_X,val_y,my_model):\n",
        "  average = []\n",
        "  for n in range(0,len(val_y)-1):\n",
        "      x_1 = val_X[n,:].copy()\n",
        "      x_2 = df[df.columns[:-1]].copy().mean(axis = 0)\n",
        "      for j in S:  #magari vettorialmente\n",
        "          ind = list(data_array).index(j)\n",
        "          x_2[ind] = x_1[ind]   #ora x_2 differisce da x_3 solo per valori di S\n",
        "      pred = my_model.predict(np.array(x_2).reshape(1,-1))\n",
        "      average.append(1-abs(pred-val_y[n])) #vettore di scarti dalla media\n",
        "      #print([pred,val_y[n]])\n",
        "  worst = max([abs(x) for x in average])\n",
        "  if worst == 0:\n",
        "    return 1\n",
        "  return (sum(average)/len(average))/worst\n",
        "  return sum(average)/len(average)\n",
        "'''"
      ]
    },
    {
      "cell_type": "code",
      "execution_count": null,
      "metadata": {
        "id": "DAMhXBSfYlfO",
        "colab": {
          "base_uri": "https://localhost:8080/",
          "height": 182
        },
        "outputId": "f28db1a3-8661-48a7-e49f-d14ac3d0de13"
      },
      "outputs": [
        {
          "output_type": "execute_result",
          "data": {
            "application/vnd.google.colaboratory.intrinsic+json": {
              "type": "string"
            },
            "text/plain": [
              "'\\ndef deterministic_val(S,val_X,val_y,my_model):\\n  average = []\\n  for n in range(0,len(val_y)-1):\\n      x_1 = val_X[n,:].copy()\\n      diff = []\\n      for k in range(0,len(val_y)-1): #200 è arbitrario, serve molte grande (più è meglio è, magari per ogni dato ma forse è too much)\\n          x_2 = val_X[k,:].copy()\\n          for j in S:  #magari vettorialmente\\n            ind = list(data_array).index(j)\\n            x_2[ind] = x_1[ind]   #ora x_2 differisce da x_3 solo per valori di S\\n          pred = my_model.predict(np.array(x_2).reshape(1,-1))\\n          diff.append(1-abs(pred-val_y[n]))\\n          #print([pred,val_y[n]])\\n      average.append(sum(diff)/len(diff)) #vettore di scarti medi\\n  worst = max([abs(x) for x in average])\\n  if worst == 0:\\n    return 1\\n  return (sum(average)/len(average))/worst\\n  return sum(average)/len(average)\\n  '"
            ]
          },
          "metadata": {},
          "execution_count": 7
        }
      ],
      "source": [
        "'''\n",
        "def deterministic_val(S,val_X,val_y,my_model):\n",
        "  average = []\n",
        "  for n in range(0,len(val_y)-1):\n",
        "      x_1 = val_X[n,:].copy()\n",
        "      diff = []\n",
        "      for k in range(0,len(val_y)-1): #200 è arbitrario, serve molte grande (più è meglio è, magari per ogni dato ma forse è too much)\n",
        "          x_2 = val_X[k,:].copy()\n",
        "          for j in S:  #magari vettorialmente\n",
        "            ind = list(data_array).index(j)\n",
        "            x_2[ind] = x_1[ind]   #ora x_2 differisce da x_3 solo per valori di S\n",
        "          pred = my_model.predict(np.array(x_2).reshape(1,-1))\n",
        "          diff.append(1-abs(pred-val_y[n]))\n",
        "          #print([pred,val_y[n]])\n",
        "      average.append(sum(diff)/len(diff)) #vettore di scarti medi\n",
        "  worst = max([abs(x) for x in average])\n",
        "  if worst == 0:\n",
        "    return 1\n",
        "  return (sum(average)/len(average))/worst\n",
        "  return sum(average)/len(average)\n",
        "  '''"
      ]
    },
    {
      "cell_type": "markdown",
      "metadata": {
        "id": "AkA1KbScYlfQ"
      },
      "source": [
        "calcolo shapley values usando diversi metodi:\n"
      ]
    },
    {
      "cell_type": "code",
      "execution_count": null,
      "metadata": {
        "id": "jGEeN6lDYlfR",
        "colab": {
          "base_uri": "https://localhost:8080/",
          "height": 145
        },
        "outputId": "2befaabc-903c-4a68-a805-d78456419059"
      },
      "outputs": [
        {
          "output_type": "execute_result",
          "data": {
            "application/vnd.google.colaboratory.intrinsic+json": {
              "type": "string"
            },
            "text/plain": [
              "'\\ndef true_shap_values(data_array,val_X,val_y,my_model):\\n  card=len(data_array)\\n  shap=np.zeros(card)\\n  cont=0\\n  for feature in data_array:\\n      for size_of_S in range(1,card):\\n        subs=[list(S) for S in combinations(data_array.copy().drop(feature),size_of_S)]\\n        coeff=(1/binom(card,size_of_S))/(card-size_of_S)\\n        shap[cont]+=coeff*sum([mean_val(S+[feature],val_X,val_y,my_model)-mean_val(S,val_X,val_y,my_model) for S in subs])\\n        #print([[mean_val(S+[feature],val_X,val_y)-mean_val(S,val_X,val_y)] for S in subs])\\n      shap[cont]+=1/card*sum([mean_val(S,val_X,val_y,my_model) for S in subs if len(S)==1])\\n      cont+=1\\n  return shap\\n  '"
            ]
          },
          "metadata": {},
          "execution_count": 8
        }
      ],
      "source": [
        "'''\n",
        "def true_shap_values(data_array,val_X,val_y,my_model):\n",
        "  card=len(data_array)\n",
        "  shap=np.zeros(card)\n",
        "  cont=0\n",
        "  for feature in data_array:\n",
        "      for size_of_S in range(1,card):\n",
        "        subs=[list(S) for S in combinations(data_array.copy().drop(feature),size_of_S)]\n",
        "        coeff=(1/binom(card,size_of_S))/(card-size_of_S)\n",
        "        shap[cont]+=coeff*sum([mean_val(S+[feature],val_X,val_y,my_model)-mean_val(S,val_X,val_y,my_model) for S in subs])\n",
        "        #print([[mean_val(S+[feature],val_X,val_y)-mean_val(S,val_X,val_y)] for S in subs])\n",
        "      shap[cont]+=1/card*sum([mean_val(S,val_X,val_y,my_model) for S in subs if len(S)==1])\n",
        "      cont+=1\n",
        "  return shap\n",
        "  '''"
      ]
    },
    {
      "cell_type": "code",
      "execution_count": null,
      "metadata": {
        "id": "3g_kRkcvYlfR",
        "colab": {
          "base_uri": "https://localhost:8080/",
          "height": 127
        },
        "outputId": "103d34a2-14e2-4140-aa9a-efd0605f7717"
      },
      "outputs": [
        {
          "output_type": "execute_result",
          "data": {
            "application/vnd.google.colaboratory.intrinsic+json": {
              "type": "string"
            },
            "text/plain": [
              "'\\ndef true_shap_values2(data_array,val_X,val_y,my_model):\\n  card=len(data_array)\\n  shap=np.zeros(card)\\n  cont=0\\n  for feature in data_array:\\n      for size_of_S in range(1,card):\\n        subs=[list(S) for S in combinations(data_array.copy().drop(feature),size_of_S)]\\n        coeff=(1/binom(card,size_of_S))/(card-size_of_S)\\n        shap[cont]+=coeff*sum([deterministic_val(S+[feature],val_X,val_y,my_model)-deterministic_val(S,val_X,val_y,my_model) for S in subs])\\n      shap[cont]+=1/card*sum([deterministic_val(S,val_X,val_y,my_model) for S in subs if len(S)==1])\\n      cont+=1\\n  return shap\\n'"
            ]
          },
          "metadata": {},
          "execution_count": 9
        }
      ],
      "source": [
        "'''\n",
        "def true_shap_values2(data_array,val_X,val_y,my_model):\n",
        "  card=len(data_array)\n",
        "  shap=np.zeros(card)\n",
        "  cont=0\n",
        "  for feature in data_array:\n",
        "      for size_of_S in range(1,card):\n",
        "        subs=[list(S) for S in combinations(data_array.copy().drop(feature),size_of_S)]\n",
        "        coeff=(1/binom(card,size_of_S))/(card-size_of_S)\n",
        "        shap[cont]+=coeff*sum([deterministic_val(S+[feature],val_X,val_y,my_model)-deterministic_val(S,val_X,val_y,my_model) for S in subs])\n",
        "      shap[cont]+=1/card*sum([deterministic_val(S,val_X,val_y,my_model) for S in subs if len(S)==1])\n",
        "      cont+=1\n",
        "  return shap\n",
        "'''"
      ]
    },
    {
      "cell_type": "code",
      "execution_count": null,
      "metadata": {
        "colab": {
          "base_uri": "https://localhost:8080/",
          "height": 200
        },
        "id": "veY8_KbvYlfV",
        "outputId": "dcae862a-1d81-4e21-9f25-389749ac94b3"
      },
      "outputs": [
        {
          "output_type": "execute_result",
          "data": {
            "application/vnd.google.colaboratory.intrinsic+json": {
              "type": "string"
            },
            "text/plain": [
              "\"\\ns=[0,0,0,0,0,0]\\ny_min=[5,5,5,5,5,5]\\ny_max=[-5,-5,-5,-5,-5,-5]\\nfor x in range(10):\\n  df=generate_df()\\n  data_array=df.columns[:-1].copy()\\n  y  =  df[df.columns[-1]]\\n  X  =  df[df.columns[:-1]]\\n  y = y.to_numpy()\\n  X = X.to_numpy()\\n  train_X, val_X, train_y, val_y  =  train_test_split(X, y, test_size = 0.3) #y è le cose che deve imparare ad indovinare\\n  my_model = tree.DecisionTreeClassifier(random_state = 0).fit(train_X, train_y)\\n  v=true_shap_values(data_array,val_X,val_y,my_model)\\n  print(v)\\n  y_min=[min(y_min[j],v[j]) for j in range(len(data_array))]\\n  y_max=[max(y_max[j],v[j]) for j in range(len(data_array))]\\n  #print(y_min)\\n  #print(y_max)\\n  s=[s[j]+v[j] for j in range(len(data_array))]\\nprint(s) #è 10x il valore reale cioè la media\\n\\ns=[i/10 for i in s]\\ny_min=[abs(s[j]-y_min[j]) for j in range(len(data_array))]\\ny_max=[abs(s[j]-y_max[j]) for j in range(len(data_array))]\\ny_error=[y_min,y_max]\\n#plt.plot()\\nplt.xlabel('features')\\nplt.ylabel('average Shapley values')\\nplt.errorbar(data_array, s,\\n             yerr = y_error,\\n             fmt ='o')\\nplt.savefig('fig1.jpg')\\n\""
            ]
          },
          "metadata": {},
          "execution_count": 10
        }
      ],
      "source": [
        "'''\n",
        "s=[0,0,0,0,0,0]\n",
        "y_min=[5,5,5,5,5,5]\n",
        "y_max=[-5,-5,-5,-5,-5,-5]\n",
        "for x in range(10):\n",
        "  df=generate_df()\n",
        "  data_array=df.columns[:-1].copy()\n",
        "  y  =  df[df.columns[-1]]\n",
        "  X  =  df[df.columns[:-1]]\n",
        "  y = y.to_numpy()\n",
        "  X = X.to_numpy()\n",
        "  train_X, val_X, train_y, val_y  =  train_test_split(X, y, test_size = 0.3) #y è le cose che deve imparare ad indovinare\n",
        "  my_model = tree.DecisionTreeClassifier(random_state = 0).fit(train_X, train_y)\n",
        "  v=true_shap_values(data_array,val_X,val_y,my_model)\n",
        "  print(v)\n",
        "  y_min=[min(y_min[j],v[j]) for j in range(len(data_array))]\n",
        "  y_max=[max(y_max[j],v[j]) for j in range(len(data_array))]\n",
        "  #print(y_min)\n",
        "  #print(y_max)\n",
        "  s=[s[j]+v[j] for j in range(len(data_array))]\n",
        "print(s) #è 10x il valore reale cioè la media\n",
        "\n",
        "s=[i/10 for i in s]\n",
        "y_min=[abs(s[j]-y_min[j]) for j in range(len(data_array))]\n",
        "y_max=[abs(s[j]-y_max[j]) for j in range(len(data_array))]\n",
        "y_error=[y_min,y_max]\n",
        "#plt.plot()\n",
        "plt.xlabel('features')\n",
        "plt.ylabel('average Shapley values')\n",
        "plt.errorbar(data_array, s,\n",
        "             yerr = y_error,\n",
        "             fmt ='o')\n",
        "plt.savefig('fig1.jpg')\n",
        "'''"
      ]
    },
    {
      "cell_type": "code",
      "execution_count": null,
      "metadata": {
        "id": "KhgfQSQJYlfV",
        "colab": {
          "base_uri": "https://localhost:8080/",
          "height": 200
        },
        "outputId": "58c84246-8707-45ff-955b-69ab5ce7de80"
      },
      "outputs": [
        {
          "output_type": "execute_result",
          "data": {
            "application/vnd.google.colaboratory.intrinsic+json": {
              "type": "string"
            },
            "text/plain": [
              "\"\\ns=[0,0,0,0,0,0]\\ny_min=[5,5,5,5,5,5]\\ny_max=[-5,-5,-5,-5,-5,-5]\\nfor x in range(10):\\n  df=generate_df()\\n  data_array=df.columns[:-1].copy()\\n  y  =  df[df.columns[-1]]\\n  X  =  df[df.columns[:-1]]\\n  y = y.to_numpy()\\n  X = X.to_numpy()\\n  train_X, val_X, train_y, val_y  =  train_test_split(X, y, test_size = 0.3) #y è le cose che deve imparare ad indovinare\\n  my_model = tree.DecisionTreeClassifier(random_state = 0).fit(train_X, train_y)\\n  v=true_shap_values2(data_array,val_X,val_y,my_model)\\n  print(v)\\n  y_min=[min(y_min[j],v[j]) for j in range(len(data_array))]\\n  y_max=[max(y_max[j],v[j]) for j in range(len(data_array))]\\n  #print(y_min)\\n  #print(y_max)\\n  s=[s[j]+v[j] for j in range(len(data_array))]\\nprint(s) #è 10x il valore reale cioè la media\\n\\ns=[i/10 for i in s]\\ny_min=[abs(s[j]-y_min[j]) for j in range(len(data_array))]\\ny_max=[abs(s[j]-y_max[j]) for j in range(len(data_array))]\\ny_error=[y_min,y_max]\\n#plt.plot()\\nplt.xlabel('features')\\nplt.ylabel('average Shapley values')\\nplt.errorbar(data_array, s,\\n             yerr = y_error,\\n             fmt ='o')\\nplt.savefig('fig2.jpg')\\n\""
            ]
          },
          "metadata": {},
          "execution_count": 11
        }
      ],
      "source": [
        "'''\n",
        "s=[0,0,0,0,0,0]\n",
        "y_min=[5,5,5,5,5,5]\n",
        "y_max=[-5,-5,-5,-5,-5,-5]\n",
        "for x in range(10):\n",
        "  df=generate_df()\n",
        "  data_array=df.columns[:-1].copy()\n",
        "  y  =  df[df.columns[-1]]\n",
        "  X  =  df[df.columns[:-1]]\n",
        "  y = y.to_numpy()\n",
        "  X = X.to_numpy()\n",
        "  train_X, val_X, train_y, val_y  =  train_test_split(X, y, test_size = 0.3) #y è le cose che deve imparare ad indovinare\n",
        "  my_model = tree.DecisionTreeClassifier(random_state = 0).fit(train_X, train_y)\n",
        "  v=true_shap_values2(data_array,val_X,val_y,my_model)\n",
        "  print(v)\n",
        "  y_min=[min(y_min[j],v[j]) for j in range(len(data_array))]\n",
        "  y_max=[max(y_max[j],v[j]) for j in range(len(data_array))]\n",
        "  #print(y_min)\n",
        "  #print(y_max)\n",
        "  s=[s[j]+v[j] for j in range(len(data_array))]\n",
        "print(s) #è 10x il valore reale cioè la media\n",
        "\n",
        "s=[i/10 for i in s]\n",
        "y_min=[abs(s[j]-y_min[j]) for j in range(len(data_array))]\n",
        "y_max=[abs(s[j]-y_max[j]) for j in range(len(data_array))]\n",
        "y_error=[y_min,y_max]\n",
        "#plt.plot()\n",
        "plt.xlabel('features')\n",
        "plt.ylabel('average Shapley values')\n",
        "plt.errorbar(data_array, s,\n",
        "             yerr = y_error,\n",
        "             fmt ='o')\n",
        "plt.savefig('fig2.jpg')\n",
        "'''"
      ]
    },
    {
      "cell_type": "markdown",
      "metadata": {
        "id": "-uPB2MIDYlfS"
      },
      "source": [
        "con molti modelli invece:"
      ]
    },
    {
      "cell_type": "code",
      "execution_count": null,
      "metadata": {
        "id": "CFtJe_VGYlfS",
        "colab": {
          "base_uri": "https://localhost:8080/"
        },
        "outputId": "93934ebc-61da-45f7-a262-2d3bf1767cfe"
      },
      "outputs": [
        {
          "output_type": "stream",
          "name": "stdout",
          "text": [
            "{'[0]': DecisionTreeClassifier(random_state=0), '[1]': DecisionTreeClassifier(random_state=0), '[2]': DecisionTreeClassifier(random_state=0), '[3]': DecisionTreeClassifier(random_state=0), '[4]': DecisionTreeClassifier(random_state=0), '[5]': DecisionTreeClassifier(random_state=0), '[0, 1]': DecisionTreeClassifier(random_state=0), '[0, 2]': DecisionTreeClassifier(random_state=0), '[0, 3]': DecisionTreeClassifier(random_state=0), '[0, 4]': DecisionTreeClassifier(random_state=0), '[0, 5]': DecisionTreeClassifier(random_state=0), '[1, 2]': DecisionTreeClassifier(random_state=0), '[1, 3]': DecisionTreeClassifier(random_state=0), '[1, 4]': DecisionTreeClassifier(random_state=0), '[1, 5]': DecisionTreeClassifier(random_state=0), '[2, 3]': DecisionTreeClassifier(random_state=0), '[2, 4]': DecisionTreeClassifier(random_state=0), '[2, 5]': DecisionTreeClassifier(random_state=0), '[3, 4]': DecisionTreeClassifier(random_state=0), '[3, 5]': DecisionTreeClassifier(random_state=0), '[4, 5]': DecisionTreeClassifier(random_state=0), '[0, 1, 2]': DecisionTreeClassifier(random_state=0), '[0, 1, 3]': DecisionTreeClassifier(random_state=0), '[0, 1, 4]': DecisionTreeClassifier(random_state=0), '[0, 1, 5]': DecisionTreeClassifier(random_state=0), '[0, 2, 3]': DecisionTreeClassifier(random_state=0), '[0, 2, 4]': DecisionTreeClassifier(random_state=0), '[0, 2, 5]': DecisionTreeClassifier(random_state=0), '[0, 3, 4]': DecisionTreeClassifier(random_state=0), '[0, 3, 5]': DecisionTreeClassifier(random_state=0), '[0, 4, 5]': DecisionTreeClassifier(random_state=0), '[1, 2, 3]': DecisionTreeClassifier(random_state=0), '[1, 2, 4]': DecisionTreeClassifier(random_state=0), '[1, 2, 5]': DecisionTreeClassifier(random_state=0), '[1, 3, 4]': DecisionTreeClassifier(random_state=0), '[1, 3, 5]': DecisionTreeClassifier(random_state=0), '[1, 4, 5]': DecisionTreeClassifier(random_state=0), '[2, 3, 4]': DecisionTreeClassifier(random_state=0), '[2, 3, 5]': DecisionTreeClassifier(random_state=0), '[2, 4, 5]': DecisionTreeClassifier(random_state=0), '[3, 4, 5]': DecisionTreeClassifier(random_state=0), '[0, 1, 2, 3]': DecisionTreeClassifier(random_state=0), '[0, 1, 2, 4]': DecisionTreeClassifier(random_state=0), '[0, 1, 2, 5]': DecisionTreeClassifier(random_state=0), '[0, 1, 3, 4]': DecisionTreeClassifier(random_state=0), '[0, 1, 3, 5]': DecisionTreeClassifier(random_state=0), '[0, 1, 4, 5]': DecisionTreeClassifier(random_state=0), '[0, 2, 3, 4]': DecisionTreeClassifier(random_state=0), '[0, 2, 3, 5]': DecisionTreeClassifier(random_state=0), '[0, 2, 4, 5]': DecisionTreeClassifier(random_state=0), '[0, 3, 4, 5]': DecisionTreeClassifier(random_state=0), '[1, 2, 3, 4]': DecisionTreeClassifier(random_state=0), '[1, 2, 3, 5]': DecisionTreeClassifier(random_state=0), '[1, 2, 4, 5]': DecisionTreeClassifier(random_state=0), '[1, 3, 4, 5]': DecisionTreeClassifier(random_state=0), '[2, 3, 4, 5]': DecisionTreeClassifier(random_state=0), '[0, 1, 2, 3, 4]': DecisionTreeClassifier(random_state=0), '[0, 1, 2, 3, 5]': DecisionTreeClassifier(random_state=0), '[0, 1, 2, 4, 5]': DecisionTreeClassifier(random_state=0), '[0, 1, 3, 4, 5]': DecisionTreeClassifier(random_state=0), '[0, 2, 3, 4, 5]': DecisionTreeClassifier(random_state=0), '[1, 2, 3, 4, 5]': DecisionTreeClassifier(random_state=0), '[0, 1, 2, 3, 4, 5]': DecisionTreeClassifier(random_state=0)}\n"
          ]
        }
      ],
      "source": [
        "def multiple_train(df):\n",
        "  num_array = list(range(len(df.columns[:-1])))\n",
        "  df.columns = num_array+[6]\n",
        "  y  =  (df[6])\n",
        "  y = y.to_numpy()\n",
        "\n",
        "  power_set = [list(item) for item in chain.from_iterable(combinations(num_array, r) for r in range(len(num_array)+1))]\n",
        "  del power_set[0]\n",
        "  my_models={}\n",
        "  for S in power_set:\n",
        "    S = sorted(S)\n",
        "    X  =  df[S]\n",
        "    X = X.to_numpy()\n",
        "    train_X, val_X, train_y, val_y  =  train_test_split(X, y, test_size = 0.2)\n",
        "    my_models.update({str(S)  :  tree.DecisionTreeClassifier(random_state = 0).fit(train_X, train_y)})\n",
        "  return my_models\n",
        "\n",
        "my_models = multiple_train(df.copy())\n",
        "print(my_models)"
      ]
    },
    {
      "cell_type": "code",
      "execution_count": null,
      "metadata": {
        "id": "xlJqTUlKYlfT"
      },
      "outputs": [],
      "source": [
        "def nelle_pos(v,ind):\n",
        "  if len(ind)==1:\n",
        "    return v[ind]\n",
        "  return [v[x] for x in ind]\n",
        "\n",
        "def shapley_mult(my_models,data_array,observation):\n",
        "  card=len(data_array)\n",
        "  shap=np.zeros(card)\n",
        "  cont=0\n",
        "  for feature in range(len(data_array)):\n",
        "      for size_of_S in range(1,card):\n",
        "        set_without_feat=[d for d in data_array if d!=feature]\n",
        "        subs = [sorted(list(S)) for S in combinations(set_without_feat,size_of_S)]\n",
        "        coeff=(1/binom(card,size_of_S))*1/(card-size_of_S)\n",
        "        l = 0\n",
        "        r = 0\n",
        "        for S in subs:\n",
        "          r+= my_models[str(S)].predict(np.array(nelle_pos(observation,S)).reshape(1,-1))\n",
        "          l+= my_models[str(sorted(S+[feature]))].predict(np.array(nelle_pos(observation,sorted(S+[feature]))).reshape(1,-1))\n",
        "        shap[cont]+=coeff*(l-r)\n",
        "      shap[cont]+=1/card*sum([my_models[str([it])].predict(np.array(observation[it]).reshape(1,-1)) for it in set_without_feat])\n",
        "      cont+=1\n",
        "  return shap"
      ]
    },
    {
      "cell_type": "code",
      "execution_count": null,
      "metadata": {
        "id": "EfsmOdBIYlfU",
        "colab": {
          "base_uri": "https://localhost:8080/",
          "height": 200
        },
        "outputId": "c607fc4c-8525-49a8-e485-54f2c5fd806e"
      },
      "outputs": [
        {
          "output_type": "execute_result",
          "data": {
            "application/vnd.google.colaboratory.intrinsic+json": {
              "type": "string"
            },
            "text/plain": [
              "\"\\ns=[0,0,0,0,0,0]\\ny_min=[5,5,5,5,5,5]\\ny_max=[-5,-5,-5,-5,-5,-5]\\nnum_array=list(range(len(data_array)))\\n#power_set = [sorted(list(item)) for item in chain.from_iterable(combinations(num_array, r) for r in range(len(data_array)+1))]\\n#del power_set[0]\\n#expected=sum([my_models[str(S)].predict(np.array(nelle_pos(row,S)).reshape(1,-1)) for row in val_X for S in power_set])/(len(val_y)*len(power_set))\\nexpected=sum([my_models[str(num_array)].predict(np.array(row).reshape(1,-1)) for row in val_X])/len(val_y)\\nprint(expected)\\nfor row in val_X:\\n  df = generate_df()\\n  my_models = multiple_train(df)\\n  v=shapley_mult(my_models,num_array,row)\\n  y_min=[min(y_min[j],v[j]) for j in range(len(data_array))]\\n  y_max=[max(y_max[j],v[j]) for j in range(len(data_array))]\\n  #print(v)\\n  s+=v\\n  print(expected+sum(v))\\n  print(my_models[str(list(range(len(df.columns[:-1]))))].predict(np.array(row).reshape(1,-1)))\\n\\n\\n#print(row)\\n#shap.force_plot(expected, v, row)\\n\\n\\ns=s/len(val_y)\\ny_min=[abs(s[j]-y_min[j]) for j in range(len(data_array))]\\ny_max=[abs(s[j]-y_max[j]) for j in range(len(data_array))]\\ny_error=[y_min,y_max]\\n#plt.plot()\\nplt.errorbar(data_array, s,\\n             yerr = y_error,\\n             fmt ='o')\\n             \""
            ]
          },
          "metadata": {},
          "execution_count": 14
        }
      ],
      "source": [
        "'''\n",
        "s=[0,0,0,0,0,0]\n",
        "y_min=[5,5,5,5,5,5]\n",
        "y_max=[-5,-5,-5,-5,-5,-5]\n",
        "num_array=list(range(len(data_array)))\n",
        "#power_set = [sorted(list(item)) for item in chain.from_iterable(combinations(num_array, r) for r in range(len(data_array)+1))]\n",
        "#del power_set[0]\n",
        "#expected=sum([my_models[str(S)].predict(np.array(nelle_pos(row,S)).reshape(1,-1)) for row in val_X for S in power_set])/(len(val_y)*len(power_set))\n",
        "expected=sum([my_models[str(num_array)].predict(np.array(row).reshape(1,-1)) for row in val_X])/len(val_y)\n",
        "print(expected)\n",
        "for row in val_X:\n",
        "  df = generate_df()\n",
        "  my_models = multiple_train(df)\n",
        "  v=shapley_mult(my_models,num_array,row)\n",
        "  y_min=[min(y_min[j],v[j]) for j in range(len(data_array))]\n",
        "  y_max=[max(y_max[j],v[j]) for j in range(len(data_array))]\n",
        "  #print(v)\n",
        "  s+=v\n",
        "  print(expected+sum(v))\n",
        "  print(my_models[str(list(range(len(df.columns[:-1]))))].predict(np.array(row).reshape(1,-1)))\n",
        "\n",
        "\n",
        "#print(row)\n",
        "#shap.force_plot(expected, v, row)\n",
        "\n",
        "\n",
        "s=s/len(val_y)\n",
        "y_min=[abs(s[j]-y_min[j]) for j in range(len(data_array))]\n",
        "y_max=[abs(s[j]-y_max[j]) for j in range(len(data_array))]\n",
        "y_error=[y_min,y_max]\n",
        "#plt.plot()\n",
        "plt.errorbar(data_array, s,\n",
        "             yerr = y_error,\n",
        "             fmt ='o')\n",
        "             '''"
      ]
    },
    {
      "cell_type": "markdown",
      "metadata": {
        "id": "cBJnko8A_CUF"
      },
      "source": [
        "senza val con una sola macchina:"
      ]
    },
    {
      "cell_type": "code",
      "execution_count": null,
      "metadata": {
        "id": "L_HKSkic-TFc"
      },
      "outputs": [],
      "source": [
        "def metti_in(row,observation,S):\n",
        "  return [row[x] if x not in S else observation[x] for x in range(len(data_array))]\n",
        "\n",
        "def shapley_expect(my_model,data_array,observation,val_X):\n",
        "  card=len(data_array)\n",
        "  shap=np.zeros(card)\n",
        "  cont=0\n",
        "  for feature in range(len(data_array)):\n",
        "      for size_of_S in range(1,card):\n",
        "        set_without_feat=[d for d in data_array if d!=feature]\n",
        "        subs = [sorted(list(S)) for S in combinations(set_without_feat,size_of_S)]\n",
        "        coeff=(1/binom(card,size_of_S))*1/(card-size_of_S)\n",
        "        l = 0\n",
        "        r = 0\n",
        "        for S in subs:\n",
        "          for row in val_X:\n",
        "            r+= my_model.predict(np.array(metti_in(row,observation,S)).reshape(1,-1))\n",
        "            l+= my_model.predict(np.array(metti_in(row,observation,sorted(S+[feature]))).reshape(1,-1))\n",
        "        shap[cont]+=coeff*(l-r)/len(val_y)\n",
        "      cont+=1\n",
        "  return shap"
      ]
    },
    {
      "cell_type": "code",
      "execution_count": null,
      "metadata": {
        "id": "MiAV14--A2Nj",
        "colab": {
          "base_uri": "https://localhost:8080/",
          "height": 549
        },
        "outputId": "8ea35ddd-ba5f-4df5-c297-96cea2520210"
      },
      "outputs": [
        {
          "output_type": "stream",
          "name": "stdout",
          "text": [
            "[0.53333333]\n"
          ]
        },
        {
          "output_type": "display_data",
          "data": {
            "image/png": "[encoded data removed]",
            "text/plain": [
              "<Figure size 432x288 with 1 Axes>"
            ]
          },
          "metadata": {
            "needs_background": "light"
          }
        },
        {
          "output_type": "display_data",
          "data": {
            "image/png": "[encoded data removed]",
            "text/plain": [
              "<Figure size 432x288 with 1 Axes>"
            ]
          },
          "metadata": {
            "needs_background": "light"
          }
        },
        {
          "output_type": "display_data",
          "data": {
            "text/plain": [
              "<Figure size 432x288 with 0 Axes>"
            ]
          },
          "metadata": {}
        }
      ],
      "source": [
        "s=[0,0,0,0,0,0]\n",
        "y_min=[5,5,5,5,5,5]\n",
        "y_max=[-5,-5,-5,-5,-5,-5]\n",
        "c=0\n",
        "err=np.zeros(len(val_y))\n",
        "expected=sum([my_model.predict(np.array(row).reshape(1,-1)) for row in val_X])/len(val_y)\n",
        "print(expected)\n",
        "for row in val_X:\n",
        "  df=generate_df()\n",
        "  my_model = train()\n",
        "  v=shapley_expect(my_model,list(range(len(df.columns[:-1]))),row,val_X)\n",
        "  #print(v)\n",
        "  y_min=[min(y_min[j],v[j]) for j in range(len(data_array))]\n",
        "  y_max=[max(y_max[j],v[j]) for j in range(len(data_array))]\n",
        "  s+=v\n",
        "  guess=my_model.predict(np.array(row).reshape(1,-1))\n",
        "  err[c]=abs(expected+sum(v)-guess)\n",
        "  c+=1\n",
        "\n",
        "#print(train_y.mean(axis = 0))\n",
        "plt.plot(sorted(err,reverse=True))\n",
        "plt.show()\n",
        "plt.savefig('fig3c.jpg')\n",
        "\n",
        "avg_shap=s/len(val_y)\n",
        "y_min=[abs(avg_shap[j]-y_min[j]) for j in range(len(data_array))]\n",
        "y_max=[abs(avg_shap[j]-y_max[j]) for j in range(len(data_array))]\n",
        "y_error=[y_min,y_max]\n",
        "plt.errorbar(data_array, avg_shap,\n",
        "             yerr = y_error,\n",
        "             fmt ='o')\n",
        "plt.show()\n",
        "plt.savefig('fig3b.jpg')"
      ]
    },
    {
      "cell_type": "code",
      "source": [
        "'''\n",
        "ex = shap.TreeExplainer(my_model)\n",
        "shap_values = ex.shap_values(row)\n",
        "print(row)\n",
        "shap.force_plot(1-sum(v), v, row,feature_names=data_array, matplotlib=True,show=False)\n",
        "plt.show()\n",
        "print(shap_values)\n",
        "print(v)\n",
        "#shap.summary_plot(shap_values, val_X[:,-1])\n",
        "'''"
      ],
      "metadata": {
        "colab": {
          "base_uri": "https://localhost:8080/",
          "height": 72
        },
        "id": "S3tffpFCDuI_",
        "outputId": "ec6ac11e-b3c3-423e-cb02-982636a65b3a"
      },
      "execution_count": null,
      "outputs": [
        {
          "output_type": "execute_result",
          "data": {
            "application/vnd.google.colaboratory.intrinsic+json": {
              "type": "string"
            },
            "text/plain": [
              "'\\nex = shap.TreeExplainer(my_model)\\nshap_values = ex.shap_values(row)\\nprint(row)\\nshap.force_plot(1-sum(v), v, row,feature_names=data_array, matplotlib=True,show=False)\\nplt.show()\\nprint(shap_values)\\nprint(v)\\n#shap.summary_plot(shap_values, val_X[:,-1])\\n'"
            ]
          },
          "metadata": {},
          "execution_count": 17
        }
      ]
    },
    {
      "cell_type": "markdown",
      "metadata": {
        "id": "6oiOoDmRBYkT"
      },
      "source": [
        "e se ora faccio la seconda macchina che lavora solo su quella:"
      ]
    },
    {
      "cell_type": "code",
      "execution_count": null,
      "metadata": {
        "id": "Qko7naM4BymY",
        "colab": {
          "base_uri": "https://localhost:8080/",
          "height": 284
        },
        "outputId": "6ad8165b-82f0-4cb5-fb01-731d2d9cfc7b"
      },
      "outputs": [
        {
          "output_type": "stream",
          "name": "stdout",
          "text": [
            "[20.0, 11.0, 9.0, 35.0, 19.0, 11.0, 8.0, 29.0, 7.0]\n"
          ]
        },
        {
          "output_type": "display_data",
          "data": {
            "image/png": "[encoded data removed]",
            "text/plain": [
              "<Figure size 432x288 with 1 Axes>"
            ]
          },
          "metadata": {
            "needs_background": "light"
          }
        }
      ],
      "source": [
        "locationsv1=[[4],[3,4],[2,3,4],[0,1,5]]\n",
        "locationsv2=[[3],[3,4],[1,3,4],[0,2,5]]\n",
        "\n",
        "df=generate_df().copy()\n",
        "y  =  df[df.columns[-1]]\n",
        "X  =  df[df.columns[:-1]]\n",
        "y = y.to_numpy()\n",
        "X = X.to_numpy()\n",
        "train_X, val_X, train_y, val_y  =  train_test_split(X, y, test_size = 0.3) #y è le cose che deve imparare ad indovinare\n",
        "\n",
        "fasterr=np.zeros((len(val_y),9))\n",
        "err=np.zeros(len(val_y))\n",
        "for turn in range(len(val_y)):\n",
        "  df=generate_df().copy()\n",
        "  y  =  df[df.columns[-1]]\n",
        "  X  =  df[df.columns[:-1]]\n",
        "  y = y.to_numpy()\n",
        "  X = X.to_numpy()\n",
        "  train_X, val_X, train_y, val_y  =  train_test_split(X, y, test_size = 0.3) #y è le cose che deve imparare ad indovinare\n",
        "  my_model = tree.DecisionTreeClassifier(random_state = 0).fit(train_X, train_y)\n",
        "  guess = my_model.predict(np.array(val_X[turn,:]).reshape(1,-1))\n",
        "  f1=[]\n",
        "  for t1 in locationsv1:\n",
        "    faster_model1 = tree.DecisionTreeClassifier(random_state = 0).fit(train_X[:,t1], train_y)\n",
        "    fast_guess1 = faster_model1.predict(np.array(val_X[turn,t1]).reshape(1,-1))\n",
        "    f1.append(fast_guess1)\n",
        "  f2=[]\n",
        "  for t2 in locationsv2:\n",
        "    faster_model2 = tree.DecisionTreeClassifier(random_state = 0).fit(train_X[:,t2], train_y)\n",
        "    fast_guess2 = faster_model2.predict(np.array(val_X[turn,t2]).reshape(1,-1))\n",
        "    f2.append(fast_guess2)\n",
        "  fasterr[turn,:]=[f1[0]-val_y[turn],f1[1]-val_y[turn],f1[2]-val_y[turn],f1[3]-val_y[turn],f2[0]-val_y[turn],f2[1]-val_y[turn],f2[2]-val_y[turn],f2[3]-val_y[turn],guess-val_y[turn]]\n",
        "\n",
        "#print(fasterr)\n",
        "fasterr=([sum([abs(fasterr[i,j]) for i in range(len(val_y))]) for j in range(9)])\n",
        "print(fasterr)\n",
        "#plt.hist(fasterr)\n",
        "\n",
        "fig, ax = plt.subplots()\n",
        "ax.bar(range(9), fasterr, width=0.8, align='center')\n",
        "ax.set(xticks=range(9), xlim=[-1, 9])\n",
        "ax.set_xticklabels(['f1,v1','f2,v1','f3,v1','f3,-v1','f1,v2','f2,v2','f3,v2','f3,-v2','f'])\n",
        "\n",
        "plt.show()"
      ]
    }
  ],
  "metadata": {
    "colab": {
      "provenance": []
    },
    "kernelspec": {
      "display_name": "Python 3",
      "name": "python3"
    },
    "language_info": {
      "name": "python"
    }
  },
  "nbformat": 4,
  "nbformat_minor": 0
}